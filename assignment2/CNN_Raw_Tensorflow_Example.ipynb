{
 "cells": [
  {
   "cell_type": "code",
   "execution_count": 1,
   "metadata": {},
   "outputs": [
    {
     "name": "stdout",
     "output_type": "stream",
     "text": [
      "Extracting /tmp/data/train-images-idx3-ubyte.gz\n",
      "Extracting /tmp/data/train-labels-idx1-ubyte.gz\n",
      "Extracting /tmp/data/t10k-images-idx3-ubyte.gz\n",
      "Extracting /tmp/data/t10k-labels-idx1-ubyte.gz\n"
     ]
    }
   ],
   "source": [
    "import tensorflow as tf\n",
    "\n",
    "# Import MNIST data\n",
    "from tensorflow.examples.tutorials.mnist import input_data\n",
    "mnist = input_data.read_data_sets(\"/tmp/data/\", one_hot=True)"
   ]
  },
  {
   "cell_type": "code",
   "execution_count": 2,
   "metadata": {
    "collapsed": true
   },
   "outputs": [],
   "source": [
    "learning_rate = 0.001\n",
    "num_steps = 500\n",
    "batch_size = 128 \n",
    "display_step = 10\n",
    "\n",
    "num_input = 784\n",
    "num_classes = 10\n",
    "dropout = 0.75\n",
    "\n",
    "X = tf.placeholder(tf.float32,[None,num_input])\n",
    "Y = tf.placeholder(tf.float32,[None,num_classes])\n",
    "keep_prob = tf.placeholder(tf.float32)"
   ]
  },
  {
   "cell_type": "code",
   "execution_count": 9,
   "metadata": {
    "collapsed": true
   },
   "outputs": [],
   "source": [
    "def conv2d(x,W,b,strides=1):\n",
    "    x = tf.nn.conv2d(x,W,strides=[1,strides,strides,1],padding='SAME')\n",
    "    x = tf.nn.bias_add(x,b)\n",
    "    return tf.nn.relu(x)\n",
    "def maxpool2d(x,k=2):\n",
    "    return tf.nn.max_pool(x,ksize=[1,k,k,1],strides=[1,k,k,1],padding='SAME')\n",
    "\n",
    "def conv_net(x,weights,biases,dropout):\n",
    "    x = tf.reshape(x,shape=[-1,28,28,1])\n",
    "    \n",
    "    conv1 = conv2d(x,weights['wc1'],biases['bc1'])\n",
    "    \n",
    "    conv1 = maxpool2d(conv1,k=2)\n",
    "    \n",
    "    conv2 = conv2d(conv1,weights['wc2'],biases['bc2'])\n",
    "    conv2 = maxpool2d(conv2,k=2)\n",
    "    \n",
    "    fc1 = tf.reshape(conv2,[-1,weights['wd1'].get_shape().as_list()[0]])\n",
    "    fc1 = tf.add(tf.matmul(fc1,weights['wd1']),biases['bd1'])\n",
    "    fc1 = tf.nn.relu(fc1)\n",
    "    \n",
    "    fc1 =tf.nn.dropout(fc1,dropout)\n",
    "    \n",
    "    out = tf.add(tf.matmul(fc1,weights['out']),biases['out'])\n",
    "    return out\n"
   ]
  },
  {
   "cell_type": "code",
   "execution_count": 11,
   "metadata": {},
   "outputs": [],
   "source": [
    "weights = {\n",
    "    'wc1':tf.Variable(tf.random_normal([5,5,1,32])),\n",
    "    'wc2':tf.Variable(tf.random_normal([5,5,32,64])),\n",
    "    'wd1':tf.Variable(tf.random_normal([7*7*64,1024])),\n",
    "    'out':tf.Variable(tf.random_normal([1024,num_classes]))\n",
    "}\n",
    "\n",
    "biases = {\n",
    "    'bc1': tf.Variable(tf.random_normal([32])),\n",
    "    'bc2': tf.Variable(tf.random_normal([64])),\n",
    "    'bd1': tf.Variable(tf.random_normal([1024])),\n",
    "    'out': tf.Variable(tf.random_normal([num_classes]))\n",
    "}\n",
    "\n",
    "logits = conv_net(X,weights,biases,keep_prob)\n",
    "prediction = tf.nn.softmax(logits)\n",
    "\n",
    "loss_op = tf.reduce_mean(tf.nn.softmax_cross_entropy_with_logits(logits = logits,labels = Y))\n",
    "optimizer = tf.train.AdamOptimizer(learning_rate = learning_rate)\n",
    "train_op = optimizer.minimize(loss_op)\n",
    "\n",
    "correct_pred = tf.equal(tf.argmax(prediction,1),tf.argmax(Y,1))\n",
    "accracy = tf.reduce_mean(tf.cast(correct_pred,tf.float32))\n",
    "\n",
    "init = tf.global_variables_initializer()"
   ]
  },
  {
   "cell_type": "code",
   "execution_count": 17,
   "metadata": {},
   "outputs": [
    {
     "name": "stdout",
     "output_type": "stream",
     "text": [
      "Step 1, Minibatch Loss= 119055.2344, Training Accuracy= 0.133\n",
      "Step 10, Minibatch Loss= 35987.4766, Training Accuracy= 0.133\n",
      "Step 20, Minibatch Loss= 13538.4082, Training Accuracy= 0.422\n",
      "Step 30, Minibatch Loss= 8052.4658, Training Accuracy= 0.578\n",
      "Step 40, Minibatch Loss= 4005.3225, Training Accuracy= 0.695\n",
      "Step 50, Minibatch Loss= 3885.4316, Training Accuracy= 0.797\n",
      "Step 60, Minibatch Loss= 5117.6182, Training Accuracy= 0.812\n",
      "Step 70, Minibatch Loss= 3330.4629, Training Accuracy= 0.867\n",
      "Step 80, Minibatch Loss= 2214.2354, Training Accuracy= 0.867\n",
      "Step 90, Minibatch Loss= 3106.8506, Training Accuracy= 0.867\n",
      "Step 100, Minibatch Loss= 2161.7202, Training Accuracy= 0.852\n",
      "Step 110, Minibatch Loss= 3242.6963, Training Accuracy= 0.836\n",
      "Step 120, Minibatch Loss= 2123.4385, Training Accuracy= 0.891\n",
      "Step 130, Minibatch Loss= 3445.3147, Training Accuracy= 0.836\n",
      "Step 140, Minibatch Loss= 753.9454, Training Accuracy= 0.945\n",
      "Step 150, Minibatch Loss= 584.6635, Training Accuracy= 0.961\n",
      "Step 160, Minibatch Loss= 2341.0828, Training Accuracy= 0.914\n",
      "Step 170, Minibatch Loss= 1086.9204, Training Accuracy= 0.914\n",
      "Step 180, Minibatch Loss= 3252.8521, Training Accuracy= 0.906\n",
      "Step 190, Minibatch Loss= 1089.4935, Training Accuracy= 0.938\n",
      "Step 200, Minibatch Loss= 603.2534, Training Accuracy= 0.961\n",
      "Step 210, Minibatch Loss= 859.6524, Training Accuracy= 0.938\n",
      "Step 220, Minibatch Loss= 707.3960, Training Accuracy= 0.961\n",
      "Step 230, Minibatch Loss= 1388.3396, Training Accuracy= 0.914\n",
      "Step 240, Minibatch Loss= 1462.1318, Training Accuracy= 0.922\n",
      "Step 250, Minibatch Loss= 2385.6479, Training Accuracy= 0.898\n",
      "Step 260, Minibatch Loss= 422.6230, Training Accuracy= 0.953\n",
      "Step 270, Minibatch Loss= 896.9259, Training Accuracy= 0.938\n",
      "Step 280, Minibatch Loss= 1659.3954, Training Accuracy= 0.938\n",
      "Step 290, Minibatch Loss= 2036.7388, Training Accuracy= 0.891\n",
      "Step 300, Minibatch Loss= 1542.5403, Training Accuracy= 0.914\n",
      "Step 310, Minibatch Loss= 690.7839, Training Accuracy= 0.953\n",
      "Step 320, Minibatch Loss= 602.7175, Training Accuracy= 0.945\n",
      "Step 330, Minibatch Loss= 1004.3787, Training Accuracy= 0.938\n",
      "Step 340, Minibatch Loss= 1774.0654, Training Accuracy= 0.922\n",
      "Step 350, Minibatch Loss= 961.5037, Training Accuracy= 0.938\n",
      "Step 360, Minibatch Loss= 608.5084, Training Accuracy= 0.945\n",
      "Step 370, Minibatch Loss= 1420.2310, Training Accuracy= 0.906\n",
      "Step 380, Minibatch Loss= 552.7365, Training Accuracy= 0.945\n",
      "Step 390, Minibatch Loss= 417.0518, Training Accuracy= 0.969\n",
      "Step 400, Minibatch Loss= 605.0876, Training Accuracy= 0.945\n",
      "Step 410, Minibatch Loss= 144.0120, Training Accuracy= 0.977\n",
      "Step 420, Minibatch Loss= 114.4213, Training Accuracy= 0.977\n",
      "Step 430, Minibatch Loss= 561.8553, Training Accuracy= 0.961\n",
      "Step 440, Minibatch Loss= 779.1525, Training Accuracy= 0.930\n",
      "Step 450, Minibatch Loss= 895.5078, Training Accuracy= 0.945\n",
      "Step 460, Minibatch Loss= 1495.4729, Training Accuracy= 0.922\n",
      "Step 470, Minibatch Loss= 678.8823, Training Accuracy= 0.961\n",
      "Step 480, Minibatch Loss= 1328.0247, Training Accuracy= 0.906\n",
      "Step 490, Minibatch Loss= 564.6639, Training Accuracy= 0.961\n",
      "Step 500, Minibatch Loss= 388.5719, Training Accuracy= 0.938\n",
      "Optimization Finished!\n",
      "Testing Accuracy: 0.972656\n"
     ]
    }
   ],
   "source": [
    "with tf.Session() as sess:\n",
    "    sess.run(init)\n",
    "    for step in range(1,num_steps+1):\n",
    "        batch_x,batch_y = mnist.train.next_batch(batch_size)\n",
    "        \n",
    "        sess.run(train_op,feed_dict={X:batch_x,Y:batch_y,keep_prob:dropout})\n",
    "        if step % display_step == 0 or step == 1:\n",
    "            loss,acc = sess.run([loss_op,accracy],feed_dict={X:batch_x,Y:batch_y,keep_prob:1.0})\n",
    "            print(\"Step \" + str(step) + \", Minibatch Loss= \" + \\\n",
    "                  \"{:.4f}\".format(loss) + \", Training Accuracy= \" + \\\n",
    "                  \"{:.3f}\".format(acc))\n",
    "    print(\"Optimization Finished!\")\n",
    "    print(\"Testing Accuracy:\", \\\n",
    "        sess.run(accracy, feed_dict={X: mnist.test.images[:256],\n",
    "                                      Y: mnist.test.labels[:256],\n",
    "                                      keep_prob: 1.0}))"
   ]
  },
  {
   "cell_type": "code",
   "execution_count": null,
   "metadata": {
    "collapsed": true
   },
   "outputs": [],
   "source": []
  },
  {
   "cell_type": "code",
   "execution_count": null,
   "metadata": {
    "collapsed": true
   },
   "outputs": [],
   "source": []
  },
  {
   "cell_type": "code",
   "execution_count": null,
   "metadata": {
    "collapsed": true
   },
   "outputs": [],
   "source": []
  },
  {
   "cell_type": "code",
   "execution_count": null,
   "metadata": {
    "collapsed": true
   },
   "outputs": [],
   "source": []
  },
  {
   "cell_type": "code",
   "execution_count": null,
   "metadata": {
    "collapsed": true
   },
   "outputs": [],
   "source": []
  },
  {
   "cell_type": "code",
   "execution_count": null,
   "metadata": {
    "collapsed": true
   },
   "outputs": [],
   "source": []
  },
  {
   "cell_type": "code",
   "execution_count": null,
   "metadata": {
    "collapsed": true
   },
   "outputs": [],
   "source": []
  },
  {
   "cell_type": "code",
   "execution_count": null,
   "metadata": {
    "collapsed": true
   },
   "outputs": [],
   "source": []
  },
  {
   "cell_type": "code",
   "execution_count": null,
   "metadata": {
    "collapsed": true
   },
   "outputs": [],
   "source": []
  }
 ],
 "metadata": {
  "kernelspec": {
   "display_name": "Python 3",
   "language": "python",
   "name": "python3"
  },
  "language_info": {
   "codemirror_mode": {
    "name": "ipython",
    "version": 3
   },
   "file_extension": ".py",
   "mimetype": "text/x-python",
   "name": "python",
   "nbconvert_exporter": "python",
   "pygments_lexer": "ipython3",
   "version": "3.5.4"
  }
 },
 "nbformat": 4,
 "nbformat_minor": 2
}
